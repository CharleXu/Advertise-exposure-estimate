{
 "cells": [
  {
   "cell_type": "markdown",
   "metadata": {},
   "source": [
    "# <center> Advertising Exposure Estimation\n",
    "\n",
    "\n"
   ]
  },
  {
   "cell_type": "markdown",
   "metadata": {},
   "source": [
    "## Content\n",
    "* [Part 0: Loading](#Part-0-Loading)\n",
    "* [Part 1: Preprocessing](#Part-1-Preprocessing)\n",
    "* [Part 2: Feature Engineering](#Part-2-Feature-Engineering)\n",
    "* [Part 3: Modeling](#Part-3-Modeling)\n",
    "* [Part 4: Model Evaluation](#Part-4-Model-Evaluation)"
   ]
  },
  {
   "cell_type": "markdown",
   "metadata": {},
   "source": [
    "## Part 0-Loading"
   ]
  },
  {
   "cell_type": "code",
   "execution_count": 2,
   "metadata": {},
   "outputs": [],
   "source": [
    "# load packages\n",
    "%matplotlib inline\n",
    "import os\n",
    "import pandas as pd\n",
    "import numpy as np\n",
    "import random\n",
    "import gc\n",
    "import time\n",
    "from tqdm import tqdm\n",
    "import matplotlib.pyplot as plt\n",
    "import seaborn as sns\n",
    "import warnings\n",
    "\n",
    "warnings.filterwarnings('ignore')\n",
    "pd.set_option('display.float_format', lambda x: '%.3f' % x)\n",
    "np.random.seed(2020)\n",
    "random.seed(2020)\n"
   ]
  },
  {
   "cell_type": "markdown",
   "metadata": {},
   "source": [
    "### load dataset"
   ]
  },
  {
   "cell_type": "code",
   "execution_count": 3,
   "metadata": {},
   "outputs": [
    {
     "ename": "OSError",
     "evalue": "[Errno 28] No space left on device",
     "output_type": "error",
     "traceback": [
      "\u001b[0;31m---------------------------------------------------------------------------\u001b[0m",
      "\u001b[0;31mOSError\u001b[0m                                   Traceback (most recent call last)",
      "\u001b[0;32m<ipython-input-3-53c83c7cc6c5>\u001b[0m in \u001b[0;36m<module>\u001b[0;34m\u001b[0m\n\u001b[1;32m      7\u001b[0m \u001b[0;34m\u001b[0m\u001b[0m\n\u001b[1;32m      8\u001b[0m \u001b[0;31m# serialize data\u001b[0m\u001b[0;34m\u001b[0m\u001b[0;34m\u001b[0m\u001b[0;34m\u001b[0m\u001b[0m\n\u001b[0;32m----> 9\u001b[0;31m \u001b[0mdf\u001b[0m\u001b[0;34m.\u001b[0m\u001b[0mto_pickle\u001b[0m\u001b[0;34m(\u001b[0m\u001b[0;34m'totalExposureLog.pkl'\u001b[0m\u001b[0;34m)\u001b[0m\u001b[0;34m\u001b[0m\u001b[0;34m\u001b[0m\u001b[0m\n\u001b[0m\u001b[1;32m     10\u001b[0m \u001b[0;34m\u001b[0m\u001b[0m\n\u001b[1;32m     11\u001b[0m \u001b[0;32mdel\u001b[0m \u001b[0mdf\u001b[0m\u001b[0;34m\u001b[0m\u001b[0;34m\u001b[0m\u001b[0m\n",
      "\u001b[0;32m/Library/Frameworks/Python.framework/Versions/3.7/lib/python3.7/site-packages/pandas/core/generic.py\u001b[0m in \u001b[0;36mto_pickle\u001b[0;34m(self, path, compression, protocol)\u001b[0m\n\u001b[1;32m   2591\u001b[0m         \u001b[0;32mfrom\u001b[0m \u001b[0mpandas\u001b[0m\u001b[0;34m.\u001b[0m\u001b[0mio\u001b[0m\u001b[0;34m.\u001b[0m\u001b[0mpickle\u001b[0m \u001b[0;32mimport\u001b[0m \u001b[0mto_pickle\u001b[0m\u001b[0;34m\u001b[0m\u001b[0;34m\u001b[0m\u001b[0m\n\u001b[1;32m   2592\u001b[0m         return to_pickle(self, path, compression=compression,\n\u001b[0;32m-> 2593\u001b[0;31m                          protocol=protocol)\n\u001b[0m\u001b[1;32m   2594\u001b[0m \u001b[0;34m\u001b[0m\u001b[0m\n\u001b[1;32m   2595\u001b[0m     \u001b[0;32mdef\u001b[0m \u001b[0mto_clipboard\u001b[0m\u001b[0;34m(\u001b[0m\u001b[0mself\u001b[0m\u001b[0;34m,\u001b[0m \u001b[0mexcel\u001b[0m\u001b[0;34m=\u001b[0m\u001b[0;32mTrue\u001b[0m\u001b[0;34m,\u001b[0m \u001b[0msep\u001b[0m\u001b[0;34m=\u001b[0m\u001b[0;32mNone\u001b[0m\u001b[0;34m,\u001b[0m \u001b[0;34m**\u001b[0m\u001b[0mkwargs\u001b[0m\u001b[0;34m)\u001b[0m\u001b[0;34m:\u001b[0m\u001b[0;34m\u001b[0m\u001b[0;34m\u001b[0m\u001b[0m\n",
      "\u001b[0;32m/Library/Frameworks/Python.framework/Versions/3.7/lib/python3.7/site-packages/pandas/io/pickle.py\u001b[0m in \u001b[0;36mto_pickle\u001b[0;34m(obj, path, compression, protocol)\u001b[0m\n\u001b[1;32m     75\u001b[0m         \u001b[0mprotocol\u001b[0m \u001b[0;34m=\u001b[0m \u001b[0mpkl\u001b[0m\u001b[0;34m.\u001b[0m\u001b[0mHIGHEST_PROTOCOL\u001b[0m\u001b[0;34m\u001b[0m\u001b[0;34m\u001b[0m\u001b[0m\n\u001b[1;32m     76\u001b[0m     \u001b[0;32mtry\u001b[0m\u001b[0;34m:\u001b[0m\u001b[0;34m\u001b[0m\u001b[0;34m\u001b[0m\u001b[0m\n\u001b[0;32m---> 77\u001b[0;31m         \u001b[0mf\u001b[0m\u001b[0;34m.\u001b[0m\u001b[0mwrite\u001b[0m\u001b[0;34m(\u001b[0m\u001b[0mpkl\u001b[0m\u001b[0;34m.\u001b[0m\u001b[0mdumps\u001b[0m\u001b[0;34m(\u001b[0m\u001b[0mobj\u001b[0m\u001b[0;34m,\u001b[0m \u001b[0mprotocol\u001b[0m\u001b[0;34m=\u001b[0m\u001b[0mprotocol\u001b[0m\u001b[0;34m)\u001b[0m\u001b[0;34m)\u001b[0m\u001b[0;34m\u001b[0m\u001b[0;34m\u001b[0m\u001b[0m\n\u001b[0m\u001b[1;32m     78\u001b[0m     \u001b[0;32mfinally\u001b[0m\u001b[0;34m:\u001b[0m\u001b[0;34m\u001b[0m\u001b[0;34m\u001b[0m\u001b[0m\n\u001b[1;32m     79\u001b[0m         \u001b[0;32mfor\u001b[0m \u001b[0m_f\u001b[0m \u001b[0;32min\u001b[0m \u001b[0mfh\u001b[0m\u001b[0;34m:\u001b[0m\u001b[0;34m\u001b[0m\u001b[0;34m\u001b[0m\u001b[0m\n",
      "\u001b[0;31mOSError\u001b[0m: [Errno 28] No space left on device"
     ]
    }
   ],
   "source": [
    "# load exposure log dataset\n",
    "df=pd.read_csv('totalExposureLog.out', sep='\\t',names=['id','request_timestamp','position','uid','aid','imp_ad_size','bid','pctr','quality_ecpm','totalEcpm']).sort_values(by='request_timestamp')\n",
    "\n",
    "# convert data type\n",
    "df[['id','request_timestamp','position','uid','aid','imp_ad_size']] = df[['id','request_timestamp','position','uid','aid','imp_ad_size']].astype(int)\n",
    "df[['bid','pctr','quality_ecpm','totalEcpm']] = df[['bid','pctr','quality_ecpm','totalEcpm']].astype(float) \n",
    "\n",
    "# serialize data\n",
    "df.to_pickle('totalExposureLog.pkl') \n",
    "\n",
    "del df\n",
    "gc.collect()"
   ]
  },
  {
   "cell_type": "code",
   "execution_count": null,
   "metadata": {},
   "outputs": [],
   "source": [
    "# load ad_static_feature dataset\n",
    "df = pd.read_csv('ad_static_feature.out', sep='\\t', names=['aid','create_timestamp','advertiser','good_id','good_type','ad_type_id','ad_size']).sort_values(by='create_timestamp')\n",
    "df = df.fillna(-1)\n",
    "for f in ['aid','create_timestamp','advertiser','good_id','good_type','ad_type_id']:\n",
    "    items=[]\n",
    "    for item in df[f].values:\n",
    "        try:\n",
    "            items.append(int(item))\n",
    "        except:\n",
    "            items.append(-1)\n",
    "    df[f] = items\n",
    "    df[f] = df[f].astype(int)\n",
    "df['ad_size'] = df['ad_size'].apply(lambda x:' '.join([str(int(float(y))) for y in str(x).split(',')]))    \n",
    "df.to_pickle('ad_static_feature.pkl')\n",
    "del df\n",
    "gc.collect()"
   ]
  },
  {
   "cell_type": "code",
   "execution_count": null,
   "metadata": {},
   "outputs": [],
   "source": [
    "# load user_data\n",
    "df = pd.read_csv('user_data', sep='\\t', \n",
    "              names=['uid','age','gender','area','status','education','concuptionAbility','os','work','connectionType','behavior'])\n",
    "df = df.fillna(-1)\n",
    "df[['uid','age','gender','education','consuptionAbility','os','connectionType']]=df[['uid','age','gender','education','concuptionAbility','os','connectionType']].astype(int)\n",
    "for f in ['area','status','work','behavior']:\n",
    "    df[f] = df[f].apply(lambda x:' '.join(x.split(',')))\n",
    "df.to_pickle('user_data.pkl')\n",
    "del df\n",
    "gc.collect()"
   ]
  },
  {
   "cell_type": "code",
   "execution_count": null,
   "metadata": {},
   "outputs": [],
   "source": [
    "# load test_sample\n",
    "df = pd.read_csv('test_sample.dat', sep='\\t', names=['id','aid','create_timestamp','ad_size','ad_type_id','good_type','good_id','advertiser','delivery_periods','crowd_direction','bid'])\n",
    "df = df.fillna(-1)\n",
    "df[['id','aid','create_timestamp','ad_size','ad_type_id','good_type','good_id','advertiser']] = df[['id','aid','create_timestamp','ad_size','ad_type_id','good_type','good_id','advertiser']].astype(int)\n",
    "df['bid'] = df['bid'].astype(float)\n",
    "df.to_pickle('test_sample.pkl')\n",
    "del df\n",
    "gc.collect()"
   ]
  },
  {
   "cell_type": "code",
   "execution_count": null,
   "metadata": {},
   "outputs": [],
   "source": [
    "# load ad_operation dataset\n",
    "aids = []\n",
    "with open('data/testA/ad_operation.dat','r') as f:\n",
    "    for line in f:\n",
    "        line=line.strip().split('\\t')\n",
    "        try:\n",
    "            if line[1]=='20190230000000':\n",
    "                line[1]='20190301000000'\n",
    "            if line[1]!='0':\n",
    "                request_day=time.mktime(time.strptime(line[1], '%Y%m%d%H%M%S'))//(3600*24)\n",
    "            else:\n",
    "                request_day=0\n",
    "        except:\n",
    "            print(line[1])\n",
    "\n",
    "        if len(aids)==0:\n",
    "            aids.append([int(line[0]),0,\"NaN\",\"NaN\"])\n",
    "        elif aids[-1][0]!=int(line[0]):\n",
    "            for i in range(max(17930,aids[-1][1]+1),17975):\n",
    "                aids.append(aids[-1].copy())\n",
    "                aids[-1][1]=i\n",
    "            aids.append([int(line[0]),0,\"NaN\",\"NaN\"])               \n",
    "        elif request_day!=aids[-1][1]:\n",
    "            for i in range(max(17930,aids[-1][1]+1),int(request_day)):\n",
    "                aids.append(aids[-1].copy())\n",
    "                aids[-1][1]=i                \n",
    "            aids.append(aids[-1].copy())\n",
    "            aids[-1][1]=int(request_day)\n",
    "        if line[3]=='3':\n",
    "            aids[-1][2]=line[4]\n",
    "        if line[3]=='4':\n",
    "            aids[-1][3]=line[4]\n",
    "ad_df = pd.DataFrame(aids)\n",
    "ad_df.columns = ['aid','request_day','crowd_direction','delivery_periods']"
   ]
  },
  {
   "cell_type": "markdown",
   "metadata": {},
   "source": [
    "## Part 1-Preprocessing"
   ]
  },
  {
   "cell_type": "code",
   "execution_count": null,
   "metadata": {},
   "outputs": [],
   "source": [
    "# preprocessing dataset, split dataset into train dataset and validation dataset\n",
    "train_df = pd.read_pickle('totalExposureLog.pkl')\n",
    "train_df['request_day'] = train_df['request_timestamp'] // (3600*24)\n",
    "wday = []\n",
    "hour = []\n",
    "minute = []\n",
    "for x in tqdm(train_df['request_timestamp'].values,total = len(train_df)):\n",
    "    localtime = time.localtime(x)\n",
    "    wday.append(localtime[6])\n",
    "    hour.append(localtime[3])\n",
    "    minute.append(localtime[4])\n",
    "train_df['wday'] = wday\n",
    "train_df['hour'] = hour\n",
    "train_df['minute'] = minute\n",
    "train_df['period_id'] = train_df['hour'] * 2 + train_df['minute'] // 30\n",
    "dev_df = train_df[train_df['request_day'] == 17974]\n",
    "del dev_df['period_id']\n",
    "del dev_df['minute']\n",
    "del dev_df['hour']\n",
    "log = train_df\n",
    "tmp = pd.DataFrame(train_df.groupby(['aid','request_day']).size()).reset_index()\n",
    "tmp.columns = ['aid','request_day','imp']\n",
    "log = log.merge(tmp,on=['aid','request_day'],how='left')\n",
    "log[log['request_day']<17973].to_pickle('user_log_dev.pkl')\n",
    "log.to_pickle('user_log_test.pkl')\n",
    "del log\n",
    "del tmp\n",
    "gc.collect()\n",
    "del train_df['period_id']\n",
    "del train_df['minute']\n",
    "del train_df['hour']"
   ]
  },
  {
   "cell_type": "code",
   "execution_count": null,
   "metadata": {},
   "outputs": [],
   "source": [
    "# preprocessing train dataset\n"
   ]
  },
  {
   "cell_type": "markdown",
   "metadata": {},
   "source": [
    "## Part 2-Feature Engineering"
   ]
  },
  {
   "cell_type": "markdown",
   "metadata": {},
   "source": [
    "## Part 3-Modeling"
   ]
  },
  {
   "cell_type": "code",
   "execution_count": 22,
   "metadata": {},
   "outputs": [
    {
     "name": "stdout",
     "output_type": "stream",
     "text": [
      "hhh\n"
     ]
    }
   ],
   "source": [
    "a = 1534236469\n",
    "if -2 ** 31 <= a <= 2 ** 31 - 1:\n",
    "    print('hhh')"
   ]
  },
  {
   "cell_type": "markdown",
   "metadata": {},
   "source": [
    "## Part 4-Model Evaluation"
   ]
  },
  {
   "cell_type": "code",
   "execution_count": 19,
   "metadata": {},
   "outputs": [
    {
     "data": {
      "text/plain": [
       "2"
      ]
     },
     "execution_count": 19,
     "metadata": {},
     "output_type": "execute_result"
    }
   ],
   "source": [
    "int(5 // 2)"
   ]
  },
  {
   "cell_type": "code",
   "execution_count": 26,
   "metadata": {},
   "outputs": [
    {
     "name": "stdout",
     "output_type": "stream",
     "text": [
      "[1, 5]\n"
     ]
    }
   ],
   "source": [
    "s = 'IV'\n",
    "roman_dict = {'I': 1, 'V': 5, 'X': 10, 'L': 50,\n",
    "              'C': 100, 'D': 500, 'M': 1000}\n",
    "roman = list(map(roman_dict.get, [i for i in s]))\n",
    "roman"
   ]
  },
  {
   "cell_type": "code",
   "execution_count": 36,
   "metadata": {},
   "outputs": [
    {
     "data": {
      "text/plain": [
       "4"
      ]
     },
     "execution_count": 36,
     "metadata": {},
     "output_type": "execute_result"
    }
   ],
   "source": [
    "ret = 0\n",
    "for i in range(len(roman) - 1):\n",
    "    if roman[i] < roman[i+1]:\n",
    "        ret -= roman[i]\n",
    "    else:\n",
    "        ret += roman[i]\n",
    "ret += roman[i+1]\n",
    "ret"
   ]
  },
  {
   "cell_type": "code",
   "execution_count": 38,
   "metadata": {},
   "outputs": [
    {
     "name": "stdout",
     "output_type": "stream",
     "text": [
      "1 0\n"
     ]
    }
   ],
   "source": [
    "n, m = divmod(4, 4)\n",
    "print(n, m)"
   ]
  },
  {
   "cell_type": "code",
   "execution_count": 47,
   "metadata": {},
   "outputs": [
    {
     "name": "stdout",
     "output_type": "stream",
     "text": [
      "1994\n",
      "[0, 4, 4, 44, 94, 494, 994, 2, 5, 34, 14, 394, 194]\n"
     ]
    }
   ],
   "source": [
    "roman_dict = {'I': 1, 'V': 5, 'X': 10, 'L': 50, 'C': 100, 'D': 500, 'M': 1000,\n",
    "              'IV': 4, 'IX': 9, 'XL': 40, 'XC': 90, 'CD': 400, 'CM': 900}\n",
    "a = 1994\n",
    "ret = []\n",
    "mod = []\n",
    "for k, v in roman_dict.items():\n",
    "    ret.append(a // v)\n",
    "    mod.append(a % v)\n",
    "print(ret)\n",
    "print(mod)"
   ]
  },
  {
   "cell_type": "code",
   "execution_count": 64,
   "metadata": {},
   "outputs": [
    {
     "data": {
      "text/plain": [
       "0"
      ]
     },
     "execution_count": 64,
     "metadata": {},
     "output_type": "execute_result"
    }
   ],
   "source": [
    "a = 'flow'\n",
    "b = 'fl'\n",
    "a.find(b)"
   ]
  },
  {
   "cell_type": "code",
   "execution_count": null,
   "metadata": {},
   "outputs": [],
   "source": []
  }
 ],
 "metadata": {
  "kernelspec": {
   "display_name": "Python 3",
   "language": "python",
   "name": "python3"
  },
  "language_info": {
   "codemirror_mode": {
    "name": "ipython",
    "version": 3
   },
   "file_extension": ".py",
   "mimetype": "text/x-python",
   "name": "python",
   "nbconvert_exporter": "python",
   "pygments_lexer": "ipython3",
   "version": "3.7.3"
  }
 },
 "nbformat": 4,
 "nbformat_minor": 2
}
